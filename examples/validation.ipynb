{
 "cells": [
  {
   "cell_type": "markdown",
   "metadata": {},
   "source": [
    "# Corpus Validation\n",
    "Clean and valid data is essential for successful machine learning. For this purpose the `validation` module provides different methods for validate a corpus on specific properties."
   ]
  },
  {
   "cell_type": "code",
   "execution_count": 1,
   "metadata": {},
   "outputs": [],
   "source": [
    "import audiomate\n",
    "from audiomate.corpus import io\n",
    "from audiomate.corpus import validation"
   ]
  },
  {
   "cell_type": "code",
   "execution_count": 2,
   "metadata": {},
   "outputs": [],
   "source": [
    "# clear the data if already existing\n",
    "import shutil\n",
    "shutil.rmtree('output/fsd', ignore_errors=True)"
   ]
  },
  {
   "cell_type": "markdown",
   "metadata": {},
   "source": [
    "## Data\n",
    "First we download the Free-spoken-digit corpus and load it."
   ]
  },
  {
   "cell_type": "code",
   "execution_count": 3,
   "metadata": {},
   "outputs": [],
   "source": [
    "corpus_path = 'output/fsd'\n",
    "\n",
    "io.FreeSpokenDigitDownloader().download(corpus_path)\n",
    "corpus = audiomate.Corpus.load(corpus_path, reader='free-spoken-digits')"
   ]
  },
  {
   "cell_type": "markdown",
   "metadata": {},
   "source": [
    "## Perform validation and print result"
   ]
  },
  {
   "cell_type": "markdown",
   "metadata": {},
   "source": [
    "We can either perform a single validation task ..."
   ]
  },
  {
   "cell_type": "code",
   "execution_count": 4,
   "metadata": {},
   "outputs": [
    {
     "name": "stdout",
     "output_type": "stream",
     "text": [
      "Utterance-Transcription-Ratio (word-transcript)\n",
      "===============================================\n",
      "\n",
      "--> Label-List ID: word-transcript\n",
      "--> Threshold max. characters per second: 6\n",
      "\n",
      "Result: Failed\n",
      "\n",
      "Invalid Utterances:\n",
      "    * 2_theo_34 (6.211180124223603)\n",
      "    * 6_nicolas_23 (6.172839506172839)\n",
      "    * 6_nicolas_35 (6.177606177606178)\n",
      "    * 6_nicolas_7 (6.962576153176675)\n",
      "    * 6_nicolas_9 (6.354249404289119)\n",
      "    * 6_yweweler_1 (6.39488409272582)\n",
      "    * 6_yweweler_10 (6.1443932411674345)\n",
      "    * 6_yweweler_17 (6.182380216383307)\n",
      "    * 6_yweweler_3 (6.968641114982579)\n"
     ]
    }
   ],
   "source": [
    "val = validation.UtteranceTranscriptionRatioValidator(max_characters_per_second=6, \n",
    "                                                    label_list_idx=audiomate.corpus.LL_WORD_TRANSCRIPT)\n",
    "\n",
    "result = val.validate(corpus)\n",
    "print(result.get_report())"
   ]
  },
  {
   "cell_type": "markdown",
   "metadata": {},
   "source": [
    "Or we can combine multiple validation tasks to run in one go."
   ]
  },
  {
   "cell_type": "code",
   "execution_count": 5,
   "metadata": {},
   "outputs": [
    {
     "name": "stdout",
     "output_type": "stream",
     "text": [
      "Label-Count (word-transcript) --> Passed\n",
      "Utterance-Transcription-Ratio (word-transcript) --> Failed\n",
      "\n",
      "\n",
      "Label-Count (word-transcript)\n",
      "=============================\n",
      "\n",
      "--> Label-List ID: word-transcript\n",
      "--> Min. number of labels: 1\n",
      "\n",
      "Result: Passed\n",
      "\n",
      "\n",
      "Utterance-Transcription-Ratio (word-transcript)\n",
      "===============================================\n",
      "\n",
      "--> Label-List ID: word-transcript\n",
      "--> Threshold max. characters per second: 6\n",
      "\n",
      "Result: Failed\n",
      "\n",
      "Invalid Utterances:\n",
      "    * 2_theo_34 (6.211180124223603)\n",
      "    * 6_nicolas_23 (6.172839506172839)\n",
      "    * 6_nicolas_35 (6.177606177606178)\n",
      "    * 6_nicolas_7 (6.962576153176675)\n",
      "    * 6_nicolas_9 (6.354249404289119)\n",
      "    * 6_yweweler_1 (6.39488409272582)\n",
      "    * 6_yweweler_10 (6.1443932411674345)\n",
      "    * 6_yweweler_17 (6.182380216383307)\n",
      "    * 6_yweweler_3 (6.968641114982579)\n",
      "\n",
      "\n"
     ]
    }
   ],
   "source": [
    "val = validation.CombinedValidator(validators=[\n",
    "    validation.UtteranceTranscriptionRatioValidator(\n",
    "        max_characters_per_second=6, \n",
    "        label_list_idx=audiomate.corpus.LL_WORD_TRANSCRIPT\n",
    "    ),\n",
    "    validation.LabelCountValidator(\n",
    "        min_number_of_labels=1,\n",
    "        label_list_idx=audiomate.corpus.LL_WORD_TRANSCRIPT\n",
    "    )\n",
    "])\n",
    "\n",
    "result = val.validate(corpus)\n",
    "print(result.get_report())"
   ]
  }
 ],
 "metadata": {
  "kernelspec": {
   "display_name": "Python 3",
   "language": "python",
   "name": "python3"
  },
  "language_info": {
   "codemirror_mode": {
    "name": "ipython",
    "version": 3
   },
   "file_extension": ".py",
   "mimetype": "text/x-python",
   "name": "python",
   "nbconvert_exporter": "python",
   "pygments_lexer": "ipython3",
   "version": "3.7.4"
  }
 },
 "nbformat": 4,
 "nbformat_minor": 4
}
